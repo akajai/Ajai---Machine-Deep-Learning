{
  "nbformat": 4,
  "nbformat_minor": 0,
  "metadata": {
    "colab": {
      "provenance": [],
      "authorship_tag": "ABX9TyMLP0f32g0+CvEMQgAhswIs",
      "include_colab_link": true
    },
    "kernelspec": {
      "name": "python3",
      "display_name": "Python 3"
    },
    "language_info": {
      "name": "python"
    }
  },
  "cells": [
    {
      "cell_type": "markdown",
      "metadata": {
        "id": "view-in-github",
        "colab_type": "text"
      },
      "source": [
        "<a href=\"https://colab.research.google.com/github/akajai/Ajai---Machine-Deep-Learning/blob/main/Handwriting.ipynb\" target=\"_parent\"><img src=\"https://colab.research.google.com/assets/colab-badge.svg\" alt=\"Open In Colab\"/></a>"
      ]
    },
    {
      "cell_type": "code",
      "execution_count": null,
      "metadata": {
        "id": "bA9SFGlIscI3"
      },
      "outputs": [],
      "source": [
        "import pandas as pd\n",
        "import tensorflow as tf\n",
        "from keras.src.metrics.accuracy_metrics import accuracy\n",
        "from tensorflow import keras\n",
        "import numpy as np\n",
        "import matplotlib.pyplot as plt\n",
        "import math\n",
        "class myCallback(tf.keras.callbacks.Callback):\n",
        "  def on_epoch_end(self, epoch, logs={}):\n",
        "    if(logs.get('accuracy')>0.99):\n",
        "      print(\"\\nReached 99% accuracy so cancelling training!\")\n",
        "      self.model.stop_training = True\n",
        "(train_images, train_labels),(test_images, test_labels),  = tf.keras.datasets.mnist.load_data()\n",
        "\n",
        "rows=int(math.sqrt(len(test_images)))\n",
        "cols=int(math.sqrt(len(test_images)))\n",
        "rows=10\n",
        "cols=20\n",
        "\n",
        "plt.figure(figsize=(10,10))\n",
        "\n",
        "for i in range(rows*cols):\n",
        "  ax = plt.subplot(rows, cols, i + 1)\n",
        "  plt.imshow(test_images[i], cmap=plt.cm.binary)\n",
        "  plt.xlabel(test_labels[i])\n",
        "  plt.xticks([])\n",
        "  plt.yticks([])\n",
        "\n",
        "\n",
        "plt.show()\n",
        "\n",
        "\n",
        "train_images = train_images / 255.0\n",
        "test_images = test_images / 255.0\n",
        "#plt.show(test_images)\n",
        "\n",
        "modelmnist=tf.keras.models.Sequential([tf.keras.layers.Flatten(input_shape=(28,28)),\n",
        "                                      tf.keras.layers.Dense(512,activation=tf.nn.relu),\n",
        "                                       tf.keras.layers.Dense(10,activation=tf.nn.softmax)\n",
        "\n",
        "                                      ])\n",
        "modelmnist.compile(optimizer='adam',loss='sparse_categorical_crossentropy',metrics=['accuracy'])\n",
        "modelmnist.fit(train_images,train_labels,epochs=30,callbacks=[myCallback()])\n",
        "evaluate=modelmnist.evaluate(test_images,test_labels)\n",
        "print(evaluate)\n",
        "\n"
      ]
    }
  ]
}