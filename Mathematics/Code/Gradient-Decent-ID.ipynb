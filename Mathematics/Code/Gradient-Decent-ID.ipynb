{
 "cells": [
  {
   "cell_type": "markdown",
   "metadata": {},
   "source": [
    "# Visualizing Gradient Descent\n",
    "\n",
    "This notebook demonstrates the **gradient descent** optimization algorithm. The goal is to find the minimum value of a function, in this case, the simple parabola $f(x) = (x - 3)^2$.\n",
    "\n",
    "The algorithm starts at an initial guess and iteratively moves in the direction opposite to the gradient (the direction of steepest descent) until it converges to the function's minimum."
   ]
  },
  {
   "cell_type": "markdown",
   "metadata": {},
   "source": [
    "### 1. Imports and Function Definitions"
   ]
  },
  {
   "cell_type": "code",
   "execution_count": 1,
   "metadata": {},
   "outputs": [],
   "source": [
    "# Import necessary libraries\n",
    "# numpy is used for numerical operations.\n",
    "import numpy as np\n",
    "# matplotlib.pyplot is used for creating visualizations and plots.\n",
    "import matplotlib.pyplot as plt\n",
    "# pandas is used here to display the steps of the algorithm in a clean, tabular format.\n",
    "import pandas as pd\n",
    "\n",
    "\n",
    "# Define the objective function we want to minimize.\n",
    "# It's a simple parabola with its minimum at x = 3.\n",
    "def f(x):\n",
    "    return (x - 3)**2\n",
    "\n",
    "\n",
    "# Define the gradient (derivative) of the function.\n",
    "# The gradient tells us the direction of the steepest ascent.\n",
    "def grad_f(x):\n",
    "    return 2 * (x - 3)"
   ]
  },
  {
   "cell_type": "markdown",
   "metadata": {},
   "source": [
    "### 2. Set Parameters and Run Gradient Descent"
   ]
  },
  {
   "cell_type": "code",
   "execution_count": 2,
   "metadata": {},
   "outputs": [],
   "source": [
    "# The learning rate (alpha) controls the size of each step we take.\n",
    "alpha = 0.1\n",
    "\n",
    "# The threshold is a small number that defines our stopping condition.\n",
    "threshold = 1e-6\n",
    "\n",
    "# This is the starting point for our search.\n",
    "x = 0\n",
    "\n",
    "# A list to store the history of our descent (step, x, f(x)).\n",
    "steps = [(0, x, f(x))]\n",
    "\n",
    "# Initialize a counter for the number of steps taken.\n",
    "step = 0\n",
    "\n",
    "# --- The Gradient Descent Loop ---\n",
    "# This loop will run until the convergence condition is met.\n",
    "while True:\n",
    "    # Calculate the gradient at the current position 'x'.\n",
    "    grad = grad_f(x)\n",
    "\n",
    "    # This is the core update rule of gradient descent.\n",
    "    x_new = x - alpha * grad\n",
    "\n",
    "    # Log the new step.\n",
    "    steps.append((step + 1, x_new, f(x_new)))\n",
    "\n",
    "    # Check for convergence.\n",
    "    if abs(x_new - x) < threshold:\n",
    "        break # Exit the loop if converged.\n",
    "\n",
    "    # If not converged, update x for the next iteration.\n",
    "    x = x_new\n",
    "    step += 1"
   ]
  },
  {
   "cell_type": "markdown",
   "metadata": {},
   "source": [
    "### 3. Display Results in a Table"
   ]
  },
  {
   "cell_type": "code",
   "execution_count": 3,
   "metadata": {},
   "outputs": [
    {
     "name": "stdout",
     "output_type": "stream",
     "text": [
      "Gradient Descent Steps:\n"
     ]
    },
    {
     "data": {
      "text/html": [
       "<div>\n",
       "<style scoped>\n",
       "    .dataframe tbody tr th:only-of-type {\n",
       "        vertical-align: middle;\n",
       "    }\n",
       "\n",
       "    .dataframe tbody tr th {\n",
       "        vertical-align: top;\n",
       "    }\n",
       "\n",
       "    .dataframe thead th {\n",
       "        text-align: right;\n",
       "    }\n",
       "</style>\n",
       "<table border=\"1\" class=\"dataframe\">\n",
       "  <thead>\n",
       "    <tr style=\"text-align: right;\">\n",
       "      <th></th>\n",
       "      <th>Step</th>\n",
       "      <th>x</th>\n",
       "      <th>f(x)</th>\n",
       "    </tr>\n",
       "  </thead>\n",
       "  <tbody>\n",
       "    <tr>\n",
       "      <th>0</th>\n",
       "      <td>0</td>\n",
       "      <td>0.000000</td>\n",
       "      <td>9.000000e+00</td>\n",
       "    </tr>\n",
       "    <tr>\n",
       "      <th>1</th>\n",
       "      <td>1</td>\n",
       "      <td>0.600000</td>\n",
       "      <td>5.760000e+00</td>\n",
       "    </tr>\n",
       "    <tr>\n",
       "      <th>2</th>\n",
       "      <td>2</td>\n",
       "      <td>1.080000</td>\n",
       "      <td>3.686400e+00</td>\n",
       "    </tr>\n",
       "    <tr>\n",
       "      <th>3</th>\n",
       "      <td>3</td>\n",
       "      <td>1.464000</td>\n",
       "      <td>2.359296e+00</td>\n",
       "    </tr>\n",
       "    <tr>\n",
       "      <th>4</th>\n",
       "      <td>4</td>\n",
       "      <td>1.771200</td>\n",
       "      <td>1.509949e+00</td>\n",
       "    </tr>\n",
       "    <tr>\n",
       "      <th>...</th>\n",
       "      <td>...</td>\n",
       "      <td>...</td>\n",
       "      <td>...</td>\n",
       "    </tr>\n",
       "    <tr>\n",
       "      <th>57</th>\n",
       "      <td>57</td>\n",
       "      <td>2.999991</td>\n",
       "      <td>8.063081e-11</td>\n",
       "    </tr>\n",
       "    <tr>\n",
       "      <th>58</th>\n",
       "      <td>58</td>\n",
       "      <td>2.999993</td>\n",
       "      <td>5.160372e-11</td>\n",
       "    </tr>\n",
       "    <tr>\n",
       "      <th>59</th>\n",
       "      <td>59</td>\n",
       "      <td>2.999994</td>\n",
       "      <td>3.302638e-11</td>\n",
       "    </tr>\n",
       "    <tr>\n",
       "      <th>60</th>\n",
       "      <td>60</td>\n",
       "      <td>2.999995</td>\n",
       "      <td>2.113688e-11</td>\n",
       "    </tr>\n",
       "    <tr>\n",
       "      <th>61</th>\n",
       "      <td>61</td>\n",
       "      <td>2.999996</td>\n",
       "      <td>1.352761e-11</td>\n",
       "    </tr>\n",
       "  </tbody>\n",
       "</table>\n",
       "<p>62 rows × 3 columns</p>\n",
       "</div>"
      ],
      "text/plain": [
       "    Step         x          f(x)\n",
       "0      0  0.000000  9.000000e+00\n",
       "1      1  0.600000  5.760000e+00\n",
       "2      2  1.080000  3.686400e+00\n",
       "3      3  1.464000  2.359296e+00\n",
       "4      4  1.771200  1.509949e+00\n",
       "..   ...       ...           ...\n",
       "57    57  2.999991  8.063081e-11\n",
       "58    58  2.999993  5.160372e-11\n",
       "59    59  2.999994  3.302638e-11\n",
       "60    60  2.999995  2.113688e-11\n",
       "61    61  2.999996  1.352761e-11\n",
       "\n",
       "[62 rows x 3 columns]"
      ]
     },
     "metadata": {},
     "output_type": "display_data"
    }
   ],
   "source": [
    "# Create a pandas DataFrame to print the steps in a nicely formatted table.\n",
    "df = pd.DataFrame(steps, columns=[\"Step\", \"x\", \"f(x)\"])\n",
    "print(\"Gradient Descent Steps:\")\n",
    "display(df)"
   ]
  },
  {
   "cell_type": "markdown",
   "metadata": {},
   "source": [
    "### 4. Plot the Function and the Descent Path"
   ]
  },
  {
   "cell_type": "code",
   "execution_count": 4,
   "metadata": {},
   "outputs": [
    {
     "data": {
      "image/png": "[encoded data removed]",
      "text/plain": [
       "<Figure size 1200x700 with 1 Axes>"
      ]
     },
     "metadata": {},
     "output_type": "display_data"
    }
   ],
   "source": [
    "# Extract the x values and f(x) values from our 'steps' log for plotting.\n",
    "x_vals = [s[1] for s in steps]\n",
    "y_vals = [s[2] for s in steps]\n",
    "\n",
    "# Create a range of x values to plot the smooth curve of the function.\n",
    "x_plot = np.linspace(-1, 5, 400)\n",
    "y_plot = f(x_plot)\n",
    "\n",
    "# Create a new plot.\n",
    "plt.figure(figsize=(12, 7))\n",
    "\n",
    "# Plot the function f(x) = (x - 3)^2 as a continuous line.\n",
    "plt.plot(x_plot, y_plot, label='f(x) = (x - 3)^2', color='blue')\n",
    "\n",
    "# Plot the individual points visited during the gradient descent.\n",
    "plt.scatter(x_vals, y_vals, color='red', zorder=5, label='Descent Steps')\n",
    "\n",
    "# Draw arrows to show the path of the descent.\n",
    "for i in range(len(x_vals) - 1):\n",
    "    plt.arrow(\n",
    "        x_vals[i], y_vals[i],               # Starting point\n",
    "        x_vals[i+1] - x_vals[i],           # Change in x\n",
    "        y_vals[i+1] - y_vals[i],           # Change in y\n",
    "        head_width=0.08, head_length=0.15, \n",
    "        fc='darkred', ec='darkred', length_includes_head=True\n",
    "    )\n",
    "\n",
    "# Add titles and labels for clarity.\n",
    "plt.title(\"Visualizing Gradient Descent\", fontsize=16)\n",
    "plt.xlabel(\"x\", fontsize=12)\n",
    "plt.ylabel(\"f(x)\", fontsize=12)\n",
    "plt.legend()\n",
    "plt.grid(True)\n",
    "\n",
    "# Show the plot.\n",
    "plt.show()"
   ]
  }
 ],
 "metadata": {
  "kernelspec": {
   "display_name": "Python 3",
   "language": "python",
   "name": "python3"
  },
  "language_info": {
   "codemirror_mode": {
    "name": "ipython",
    "version": 3
   },
   "file_extension": ".py",
   "mimetype": "text/x-python",
   "name": "python",
   "nbconvert_exporter": "python",
   "pygments_lexer": "ipython3",
   "version": "3.13.7"
  }
 },
 "nbformat": 4,
 "nbformat_minor": 4
}
