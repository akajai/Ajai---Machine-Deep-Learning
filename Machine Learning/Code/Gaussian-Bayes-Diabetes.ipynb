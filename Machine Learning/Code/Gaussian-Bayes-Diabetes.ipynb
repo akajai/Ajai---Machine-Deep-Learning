{
 "cells": [
  {
   "cell_type": "markdown",
   "metadata": {},
   "source": [
    "# Gaussian Naive Bayes Classifier for Diabetes Prediction\n",
    "\n",
    "This notebook implements a Gaussian Naive Bayes classifier from scratch to predict the likelihood of diabetes based on two continuous features: **Glucose** level and **BMI**.\n",
    "\n",
    "Unlike classifiers that count discrete features, this model assumes that the feature values for each class (diabetic or not) follow a Gaussian (normal) distribution. [Image of a bell curve for normal distribution]"
   ]
  },
  {
   "cell_type": "code",
   "execution_count": 1,
   "metadata": {},
   "outputs": [],
   "source": [
    "import numpy as np\n",
    "import pandas as pd\n",
    "import math"
   ]
  },
  {
   "cell_type": "markdown",
   "metadata": {},
   "source": [
    "## 1. Helper Function: Gaussian Probability Density\n",
    "\n",
    "This function calculates the probability density for a given data point `x` based on the mean (`mu`) and standard deviation (`std`) of a feature's distribution for a specific class. It tells us how likely a value is to occur within that distribution."
   ]
  },
  {
   "cell_type": "code",
   "execution_count": 2,
   "metadata": {},
   "outputs": [],
   "source": [
    "def gaussian_prob(x, mu, std):\n",
    "    \"\"\"Calculates the probability density of x for a Gaussian distribution.\"\"\"\n",
    "    # This formula calculates the 'height' of the bell curve at point 'x'.\n",
    "    return (1 / (math.sqrt(2 * math.pi) * std)) * math.exp(-((x - mu) ** 2) / (2 * (std ** 2)))"
   ]
  },
  {
   "cell_type": "markdown",
   "metadata": {},
   "source": [
    "## 2. Main Classifier Function\n",
    "\n",
    "This function brings everything together. It calculates the prior, likelihoods (using the Gaussian helper function), and evidence to compute the final posterior probabilities for each class."
   ]
  },
  {
   "cell_type": "code",
   "execution_count": 3,
   "metadata": {},
   "outputs": [],
   "source": [
    "def bayesian_classifier(outcome, collected_data, given_data):\n",
    "    \"\"\"Implements the Gaussian Naive Bayes algorithm.\"\"\"\n",
    "    # Calculate the Prior probability of each class based on its frequency\n",
    "    prior = [outcome.count(0) / len(outcome), outcome.count(1) / len(outcome)]\n",
    "\n",
    "    # Calculate the Likelihoods for the given_data under each class\n",
    "    likelihoods = [\n",
    "        # Likelihood for Class 1 (No Diabetes)\n",
    "        gaussian_prob(given_data[0], np.mean(collected_data[0][0]), np.std(collected_data[0][0])) *\n",
    "        gaussian_prob(given_data[1], np.mean(collected_data[1][0]), np.std(collected_data[1][0])),\n",
    "\n",
    "        # Likelihood for Class 2 (Diabetes)\n",
    "        gaussian_prob(given_data[0], np.mean(collected_data[0][1]), np.std(collected_data[0][1])) *\n",
    "        gaussian_prob(given_data[1], np.mean(collected_data[1][1]), np.std(collected_data[1][1]))\n",
    "    ]\n",
    "\n",
    "    # Calculate the Evidence (overall probability of observing the data)\n",
    "    evidence = prior[0] * likelihoods[0] + prior[1] * likelihoods[1]\n",
    "\n",
    "    # Calculate the final Posterior probabilities for each class using Bayes' Theorem\n",
    "    result = [(likelihoods[0] * prior[0]) / evidence, (likelihoods[1] * prior[1]) / evidence]\n",
    "\n",
    "    # Print the calculation breakdown\n",
    "    print(\"--- Bayes Calculation Breakdown ---\")\n",
    "    print(f\"Prior P(No Diabetes): {prior[0]:.3f} | P(Diabetes): {prior[1]:.3f}\")\n",
    "    print(f\"Likelihood P(Data | No Diabetes): {likelihoods[0]:.5e}\")\n",
    "    print(f\"Likelihood P(Data | Diabetes):    {likelihoods[1]:.5e}\")\n",
    "    print(f\"Evidence P(Data): {evidence:.5e}\")\n",
    "    print(f\"Posterior P(No Diabetes | Data): {result[0]:.3f}\")\n",
    "    print(f\"Posterior P(Diabetes | Data):    {result[1]:.3f}\")\n",
    "    print(\"-----------------------------------\")\n",
    "    \n",
    "    return result"
   ]
  },
  {
   "cell_type": "markdown",
   "metadata": {},
   "source": [
    "## 3. Data Loading and Preprocessing\n",
    "\n",
    "Here we load the `diabetes.csv` dataset and segregate the `Glucose` and `BMI` data into lists based on the outcome (0 for No Diabetes, 1 for Diabetes)."
   ]
  },
  {
   "cell_type": "code",
   "execution_count": 4,
   "metadata": {},
   "outputs": [
    {
     "name": "stdout",
     "output_type": "stream",
     "text": [
      "File loaded successfully!\n",
      "Data processed: 500 non-diabetic samples and 268 diabetic samples.\n"
     ]
    }
   ],
   "source": [
    "# !!! IMPORTANT: Update this path to the location of your diabetes.csv file !!!\n",
    "path = r\"diabetes.csv\"\n",
    "\n",
    "try:\n",
    "    file = pd.read_csv(path)\n",
    "    print(\"File loaded successfully!\")\n",
    "    \n",
    "    # Extract columns into lists\n",
    "    outcome = list(file[\"Outcome\"])\n",
    "    glucose_data = list(file[\"Glucose\"])\n",
    "    bmi_data = list(file[\"BMI\"])\n",
    "    \n",
    "    # Initialize lists to hold data segregated by class\n",
    "    bmi = [[], []]      # bmi[0] for No Diabetes, bmi[1] for Diabetes\n",
    "    glucose = [[], []]  # glucose[0] for No Diabetes, glucose[1] for Diabetes\n",
    "    \n",
    "    # Segregate the data by outcome\n",
    "    for i in range(len(outcome)):\n",
    "        if outcome[i] == 0:\n",
    "            glucose[0].append(glucose_data[i])\n",
    "            bmi[0].append(bmi_data[i])\n",
    "        else:\n",
    "            glucose[1].append(glucose_data[i])\n",
    "            bmi[1].append(bmi_data[i])\n",
    "\n",
    "    # Combine into the final structure for the classifier\n",
    "    collected_data = [glucose, bmi]\n",
    "    print(f\"Data processed: {len(glucose[0])} non-diabetic samples and {len(glucose[1])} diabetic samples.\")\n",
    "\n",
    "except FileNotFoundError:\n",
    "    print(f\"Error: The file was not found at {path}\")\n",
    "    print(\"Please update the 'path' variable to the correct location of your 'diabetes.csv' file.\")\n",
    "    collected_data = None # Prevent errors in the next cell"
   ]
  },
  {
   "cell_type": "markdown",
   "metadata": {},
   "source": [
    "## 4. Making a Prediction\n",
    "\n",
    "Finally, we define a new data point (a specific Glucose and BMI value) and use our classifier to predict the outcome."
   ]
  },
  {
   "cell_type": "code",
   "execution_count": 6,
   "metadata": {},
   "outputs": [
    {
     "name": "stdout",
     "output_type": "stream",
     "text": [
      "Predicting for: Glucose = 150, BMI = 40\n",
      "--- Bayes Calculation Breakdown ---\n",
      "Prior P(No Diabetes): 0.651 | P(Diabetes): 0.349\n",
      "Likelihood P(Data | No Diabetes): 1.10559e-04\n",
      "Likelihood P(Data | Diabetes):    5.29880e-04\n",
      "Evidence P(Data): 2.56884e-04\n",
      "Posterior P(No Diabetes | Data): 0.280\n",
      "Posterior P(Diabetes | Data):    0.720\n",
      "-----------------------------------\n",
      "\n",
      "Prediction: Diabetes\n"
     ]
    }
   ],
   "source": [
    "if collected_data is not None:\n",
    "    # Define the new data point we want to classify\n",
    "    given_glucose = 150\n",
    "    given_bmi = 40\n",
    "    given_data = [given_glucose, given_bmi]\n",
    "    print(f\"Predicting for: Glucose = {given_glucose}, BMI = {given_bmi}\")\n",
    "\n",
    "    # Call the classifier to get the posterior probabilities\n",
    "    result = bayesian_classifier(outcome, collected_data, given_data)\n",
    "\n",
    "    # Compare the final probabilities to make a classification decision\n",
    "    if result[0] > result[1]:\n",
    "        print(\"\\nPrediction: No Diabetes\")\n",
    "    else:\n",
    "        print(\"\\nPrediction: Diabetes\")"
   ]
  }
 ],
 "metadata": {
  "kernelspec": {
   "display_name": "Python 3",
   "language": "python",
   "name": "python3"
  },
  "language_info": {
   "codemirror_mode": {
    "name": "ipython",
    "version": 3
   },
   "file_extension": ".py",
   "mimetype": "text/x-python",
   "name": "python",
   "nbconvert_exporter": "python",
   "pygments_lexer": "ipython3",
   "version": "3.13.7"
  }
 },
 "nbformat": 4,
 "nbformat_minor": 4
}
