{
 "cells": [
  {
   "cell_type": "markdown",
   "metadata": {},
   "source": [
    "# Principal Component Analysis (PCA)\n",
    "\n",
    "This notebook provides a step-by-step demonstration of **Principal Component Analysis (PCA)**, a powerful technique for **dimensionality reduction**. We will use the high-dimensional breast cancer dataset from `scikit-learn` to show how PCA can reduce the number of features (from 30 down to 5) while retaining most of the important information."
   ]
  },
  {
   "cell_type": "code",
   "execution_count": 16,
   "metadata": {},
   "outputs": [],
   "source": [
    "# Import necessary libraries for data manipulation, visualization, and machine learning.\n",
    "import numpy as np\n",
    "import pandas as pd\n",
    "import seaborn as sns\n",
    "import matplotlib.pyplot as plt\n",
    "\n",
    "# Import specific tools from scikit-learn.\n",
    "from sklearn.datasets import load_breast_cancer  # The dataset we'll use.\n",
    "from sklearn.decomposition import PCA             # The PCA algorithm.\n",
    "from sklearn.preprocessing import StandardScaler  # For feature scaling."
   ]
  },
  {
   "cell_type": "markdown",
   "metadata": {},
   "source": [
    "## 1. Load and Explore the Dataset\n",
    "\n",
    "First, we load the breast cancer dataset and perform a quick exploration to understand its structure, features, and classes."
   ]
  },
  {
   "cell_type": "code",
   "execution_count": 17,
   "metadata": {},
   "outputs": [
    {
     "name": "stdout",
     "output_type": "stream",
     "text": [
      "Dataset Keys: ['data', 'target', 'frame', 'target_names', 'DESCR', 'feature_names', 'filename', 'data_module']\n",
      "\n",
      "\n",
      "The feature names are: \n",
      " ['mean radius' 'mean texture' 'mean perimeter' 'mean area'\n",
      " 'mean smoothness' 'mean compactness' 'mean concavity'\n",
      " 'mean concave points' 'mean symmetry' 'mean fractal dimension'\n",
      " 'radius error' 'texture error' 'perimeter error' 'area error'\n",
      " 'smoothness error' 'compactness error' 'concavity error'\n",
      " 'concave points error' 'symmetry error' 'fractal dimension error'\n",
      " 'worst radius' 'worst texture' 'worst perimeter' 'worst area'\n",
      " 'worst smoothness' 'worst compactness' 'worst concavity'\n",
      " 'worst concave points' 'worst symmetry' 'worst fractal dimension']\n",
      "\n",
      "\n",
      "Number of features: 30\n",
      "The classes of data: \n",
      " ['malignant' 'benign']\n",
      "Sample counts per class:\n",
      "{np.str_('malignant'): np.int64(212), np.str_('benign'): np.int64(357)}\n"
     ]
    }
   ],
   "source": [
    "# Load the breast cancer dataset from scikit-learn.\n",
    "cancer = load_breast_cancer()\n",
    "\n",
    "# Print the keys to understand the structure of the dataset object.\n",
    "print(\"Dataset Keys:\", list(cancer.keys()))\n",
    "print(\"\\n\")\n",
    "# Print the names of all the features (columns).\n",
    "print(\"The feature names are: \\n\", cancer.feature_names)\n",
    "print(\"\\n\")\n",
    "# Print the total number of features.\n",
    "print(f\"Number of features: {len(cancer.feature_names)}\")\n",
    "# Print the class names (malignant, benign).\n",
    "print(\"The classes of data: \\n\", cancer.target_names)\n",
    "# Print the number of samples belonging to each class.\n",
    "print(\"Sample counts per class:\\n{}\".format({n: v for n, v in zip(cancer.target_names, np.bincount(cancer.target))}))"
   ]
  },
  {
   "cell_type": "markdown",
   "metadata": {},
   "source": [
    "## 2. Initial Data Inspection\n",
    "\n",
    "We'll now look at the raw data's shape and statistical properties. Notice that the features have very different means and standard deviations, highlighting the need for scaling."
   ]
  },
  {
   "cell_type": "code",
   "execution_count": 18,
   "metadata": {},
   "outputs": [
    {
     "name": "stdout",
     "output_type": "stream",
     "text": [
      "The shape of the attributes data: \n",
      " (569, 30)\n",
      "         0      1      2       3     4     5     6     7     8     9   ...  \\\n",
      "mean  14.13  19.29  91.97  654.89  0.10  0.10  0.09  0.05  0.18  0.06  ...   \n",
      "std    3.52   4.30  24.30  351.91  0.01  0.05  0.08  0.04  0.03  0.01  ...   \n",
      "\n",
      "         20     21      22      23    24    25    26    27    28    29  \n",
      "mean  16.27  25.68  107.26  880.58  0.13  0.25  0.27  0.11  0.29  0.08  \n",
      "std    4.83   6.15   33.60  569.36  0.02  0.16  0.21  0.07  0.06  0.02  \n",
      "\n",
      "[2 rows x 30 columns]\n"
     ]
    }
   ],
   "source": [
    "# Extract the feature data (the measurements).\n",
    "original_data = cancer.data\n",
    "# Extract the target labels (0 for malignant, 1 for benign).\n",
    "labels = cancer.target\n",
    "\n",
    "# Print the shape of the data matrix (rows, columns).\n",
    "print(\"The shape of the attributes data: \\n\", original_data.shape)\n",
    "# Display the mean and standard deviation for each of the 30 features.\n",
    "# This shows that features are on very different scales.\n",
    "print(pd.DataFrame(original_data).describe().loc[['mean', 'std']].round(2))"
   ]
  },
  {
   "cell_type": "markdown",
   "metadata": {},
   "source": [
    "## 3. Step 1: Standardize the Data\n",
    "\n",
    "PCA is sensitive to the scale of the features. If one feature has a much larger range than others, it will dominate the analysis. To prevent this, we standardize the data so that every feature has a **mean of 0** and a **standard deviation of 1**."
   ]
  },
  {
   "cell_type": "code",
   "execution_count": 19,
   "metadata": {},
   "outputs": [
    {
     "name": "stdout",
     "output_type": "stream",
     "text": [
      "       0    1    2    3    4    5    6    7    8    9   ...   20   21   22  \\\n",
      "mean -0.0 -0.0 -0.0 -0.0  0.0 -0.0 -0.0  0.0 -0.0 -0.0  ... -0.0  0.0 -0.0   \n",
      "std   1.0  1.0  1.0  1.0  1.0  1.0  1.0  1.0  1.0  1.0  ...  1.0  1.0  1.0   \n",
      "\n",
      "       23   24   25   26   27   28   29  \n",
      "mean  0.0 -0.0 -0.0  0.0 -0.0 -0.0  0.0  \n",
      "std   1.0  1.0  1.0  1.0  1.0  1.0  1.0  \n",
      "\n",
      "[2 rows x 30 columns]\n"
     ]
    }
   ],
   "source": [
    "# Create an instance of the StandardScaler.\n",
    "scaler_op = StandardScaler()\n",
    "# Standardize the data to have a mean of 0 and a standard deviation of 1.\n",
    "scaled_data = scaler_op.fit_transform(original_data)\n",
    "\n",
    "# Display the mean and std of the scaled data to confirm the transformation was successful.\n",
    "# The mean should be ~0 and the std should be ~1 for all features.\n",
    "print(pd.DataFrame(scaled_data).describe().loc[['mean', 'std']].round(2))"
   ]
  },
  {
   "cell_type": "markdown",
   "metadata": {},
   "source": [
    "## 4. Apply Principal Component Analysis (PCA)\n",
    "\n",
    "Now we apply PCA to the standardized data. We specify that we want to reduce the original 30 features down to the 5 most important **principal components**."
   ]
  },
  {
   "cell_type": "code",
   "execution_count": 20,
   "metadata": {},
   "outputs": [
    {
     "name": "stdout",
     "output_type": "stream",
     "text": [
      "Original shape (before PCA): (569, 30)\n",
      "Reduced shape (After PCA): (569, 5)\n"
     ]
    }
   ],
   "source": [
    "# Create a PCA instance, specifying that we want to reduce the data to 5 principal components.\n",
    "pca = PCA(n_components=5)\n",
    "\n",
    "# Fit the PCA model to the scaled data. This learns the principal components.\n",
    "pca.fit(scaled_data)\n",
    "# Transform the scaled data onto the new principal component axes.\n",
    "# This reduces the dimensionality from 30 features to 5.\n",
    "pca_features = pca.transform(scaled_data)\n",
    "\n",
    "# Print the shape before and after PCA to show the dimensionality reduction.\n",
    "print(\"Original shape (before PCA): {}\".format(str(scaled_data.shape)))\n",
    "print(\"Reduced shape (After PCA): {}\".format(str(pca_features.shape)))"
   ]
  },
  {
   "cell_type": "markdown",
   "metadata": {},
   "source": [
    "## 5. Examine PCA Results\n",
    "\n",
    "After fitting, we can inspect the internal components of the PCA model:\n",
    "- **Principal Components (Eigenvectors):** These are the new axes of our data. Each component is a linear combination of the original 30 features.\n",
    "- **Eigenvalues (Explained Variance):** These values tell us how much variance (i.e., information) from the original data is captured by each new principal component."
   ]
  },
  {
   "cell_type": "code",
   "execution_count": 21,
   "metadata": {},
   "outputs": [
    {
     "name": "stdout",
     "output_type": "stream",
     "text": [
      "Principal Components (first 5):\n",
      "[[ 0.21890244  0.10372458  0.22753729  0.22099499  0.14258969  0.23928535\n",
      "   0.25840048  0.26085376  0.13816696  0.06436335  0.20597878  0.01742803\n",
      "   0.21132592  0.20286964  0.01453145  0.17039345  0.15358979  0.1834174\n",
      "   0.04249842  0.10256832  0.22799663  0.10446933  0.23663968  0.22487053\n",
      "   0.12795256  0.21009588  0.22876753  0.25088597  0.12290456  0.13178394]\n",
      " [-0.23385713 -0.05970609 -0.21518136 -0.23107671  0.18611302  0.15189161\n",
      "   0.06016536 -0.0347675   0.19034877  0.36657547 -0.10555215  0.08997968\n",
      "  -0.08945723 -0.15229263  0.20443045  0.2327159   0.19720728  0.13032156\n",
      "   0.183848    0.28009203 -0.21986638 -0.0454673  -0.19987843 -0.21935186\n",
      "   0.17230435  0.14359317  0.09796411 -0.00825724  0.14188335  0.27533947]\n",
      " [-0.00853124  0.0645499  -0.00931422  0.02869953 -0.1042919  -0.07409157\n",
      "   0.00273384 -0.02556354 -0.04023994 -0.02257409  0.26848139  0.37463367\n",
      "   0.26664537  0.21600653  0.30883898  0.15477972  0.17646374  0.22465757\n",
      "   0.28858429  0.21150376 -0.04750699 -0.04229782 -0.04854651 -0.01190232\n",
      "  -0.25979761 -0.23607563 -0.17305734 -0.17034408 -0.27131264 -0.23279131]\n",
      " [-0.04140896  0.60305    -0.0419831  -0.0534338  -0.15938277 -0.03179458\n",
      "  -0.01912275 -0.06533594 -0.06712498 -0.04858676 -0.09794124  0.35985553\n",
      "  -0.08899241 -0.10820504 -0.04466418  0.02746936 -0.00131688 -0.07406733\n",
      "  -0.04407335 -0.01530475 -0.01541724  0.63280788 -0.01380279 -0.02589475\n",
      "  -0.01765222  0.09132842  0.07395118 -0.006007    0.03625069  0.07705347]\n",
      " [-0.03778635  0.04946885 -0.03737466 -0.01033125  0.36508853 -0.01170397\n",
      "  -0.08637541  0.04386103  0.30594143  0.04442436  0.1544565   0.19165051\n",
      "   0.12099022  0.12757443  0.23206568 -0.27996816 -0.35398209 -0.19554809\n",
      "   0.25286876 -0.26329744  0.00440659  0.0928834  -0.00745415  0.0273909\n",
      "   0.32443545 -0.12180411 -0.18851873 -0.04333207  0.24455866 -0.09442335]]\n",
      "\n",
      "Eigenvalues:\n",
      "[13.30499079  5.7013746   2.82291016  1.98412752  1.65163324]\n"
     ]
    }
   ],
   "source": [
    "# Access the principal components (eigenvectors).\n",
    "principal_components = pca.components_\n",
    "\n",
    "# Access the explained variance (eigenvalues).\n",
    "eigenvalues = pca.explained_variance_\n",
    "\n",
    "# Print the principal components and their corresponding eigenvalues.\n",
    "print(\"Principal Components (first 5):\")\n",
    "print(principal_components)\n",
    "print(\"\\nEigenvalues:\")\n",
    "print(eigenvalues)"
   ]
  },
  {
   "cell_type": "markdown",
   "metadata": {},
   "source": [
    "## 6. Visualize Explained Variance\n",
    "\n",
    "A crucial part of PCA is understanding how much information is retained. The plot below shows the **explained variance ratio**, which is the percentage of the original data's variance captured by each principal component. The cumulative line shows the total variance captured as we add more components. \n",
    "\n",
    "From this, we can see that the first principal component alone captures over 44% of the variance, and the five components together capture over 84%."
   ]
  },
  {
   "cell_type": "code",
   "execution_count": 22,
   "metadata": {},
   "outputs": [
    {
     "name": "stdout",
     "output_type": "stream",
     "text": [
      "Explained variance ratio for each component: [0.44272026 0.18971182 0.09393163 0.06602135 0.05495768]\n",
      "\n",
      "Total variance captured by 5 components: 0.8473\n"
     ]
    },
    {
     "data": {
      "image/png": "[encoded data removed]",
      "text/plain": [
       "<Figure size 640x480 with 1 Axes>"
      ]
     },
     "metadata": {},
     "output_type": "display_data"
    }
   ],
   "source": [
    "# Get the percentage of variance explained by each principal component.\n",
    "var_ratio = pca.explained_variance_ratio_\n",
    "print(\"Explained variance ratio for each component:\", var_ratio)\n",
    "\n",
    "# Calculate the cumulative sum of the explained variance ratios.\n",
    "cum_sum_eigenvalues = np.cumsum(var_ratio)\n",
    "print(f\"\\nTotal variance captured by 5 components: {cum_sum_eigenvalues[-1]:.4f}\")\n",
    "\n",
    "# Create a bar plot for the individual explained variance of each component.\n",
    "plt.bar(range(1, len(var_ratio) + 1), var_ratio, alpha=0.5, align='center', label='Individual explained variance')\n",
    "# Create a step plot for the cumulative explained variance.\n",
    "plt.step(range(1, len(cum_sum_eigenvalues) + 1), cum_sum_eigenvalues, where='mid', label='Cumulative explained variance')\n",
    "plt.ylabel('Explained Variance Ratio')\n",
    "plt.xlabel('Principal Component Index')\n",
    "plt.title('Explained Variance by Principal Components')\n",
    "plt.legend(loc='best')\n",
    "plt.tight_layout()\n",
    "plt.show()"
   ]
  },
  {
   "cell_type": "code",
   "execution_count": 15,
   "id": "74663a93",
   "metadata": {},
   "outputs": [
    {
     "name": "stdout",
     "output_type": "stream",
     "text": [
      "\n",
      "KNN Accuracy Comparison Table:\n",
      " K  Accuracy (Original)  Accuracy (PCA)\n",
      " 1                92.98           94.74\n",
      " 2                92.98           94.74\n",
      " 3                92.98           95.61\n",
      " 4                93.86           94.74\n",
      " 5                95.61           94.74\n",
      " 6                96.49           95.61\n",
      " 7                95.61           96.49\n",
      " 8                95.61           95.61\n",
      " 9                95.61           96.49\n",
      "10                97.37           96.49\n"
     ]
    }
   ],
   "source": [
    "from sklearn.model_selection import train_test_split\n",
    "from sklearn.neighbors import KNeighborsClassifier\n",
    "from sklearn.metrics import classification_report, accuracy_score, confusion_matrix\n",
    "# --- Experiment Setup ---\n",
    "# Initialize an empty list to store the accuracy results for each value of K.\n",
    "results = []\n",
    "\n",
    "\n",
    "# --- 1. KNN on Original High-Dimensional Data ---\n",
    "\n",
    "# Split the ORIGINAL data (30 features) into training (80%) and testing (20%) sets.\n",
    "# Using random_state=42 ensures that the split is the same every time, which is crucial for a fair comparison.\n",
    "X_train_orig, X_test_orig, y_train_orig, y_test_orig = train_test_split(original_data, labels, test_size=0.2, random_state=42)\n",
    "\n",
    "# Loop through K values from 1 to 10 to find the optimal number of neighbors.\n",
    "for k in range(1, 11):\n",
    "    # Create an instance of the KNeighborsClassifier with the current value of K.\n",
    "    knn = KNeighborsClassifier(n_neighbors=k)\n",
    "    \n",
    "    # Train (fit) the model on the original training data.\n",
    "    knn.fit(X_train_orig, y_train_orig)\n",
    "    \n",
    "    # Make predictions on the original test data.\n",
    "    y_pred = knn.predict(X_test_orig)\n",
    "    \n",
    "    # Calculate the accuracy by comparing the predictions to the true labels.\n",
    "    accuracy = accuracy_score(y_test_orig, y_pred)\n",
    "    \n",
    "    # Append the result as a dictionary to our results list.\n",
    "    results.append({'K': k, 'Accuracy (Original)': accuracy})\n",
    "\n",
    "\n",
    "# --- 2. KNN on PCA-Reduced Data ---\n",
    "\n",
    "# Split the PCA-REDUCED data (5 features) into training and testing sets.\n",
    "# Using the same random_state=42 ensures we are training and testing on the same underlying samples as before.\n",
    "X_train_pca, X_test_pca, y_train_pca, y_test_pca = train_test_split(pca_features, labels, test_size=0.2, random_state=42)\n",
    "\n",
    "# Loop again through K values from 1 to 10.\n",
    "# enumerate() provides an index 'i' to update the dictionaries already in the 'results' list.\n",
    "for i, k in enumerate(range(1, 11)):\n",
    "    # Create and train a new KNN model on the PCA-reduced training data.\n",
    "    knn = KNeighborsClassifier(n_neighbors=k)\n",
    "    knn.fit(X_train_pca, y_train_pca)\n",
    "    \n",
    "    # Make predictions on the PCA-reduced test data.\n",
    "    y_pred = knn.predict(X_test_pca)\n",
    "    \n",
    "    # Calculate the accuracy for the PCA-based model.\n",
    "    accuracy = accuracy_score(y_test_pca, y_pred)\n",
    "    \n",
    "    # Add the PCA accuracy result to the corresponding dictionary in the 'results' list.\n",
    "    results[i]['Accuracy (PCA)'] = accuracy\n",
    "\n",
    "\n",
    "# --- 3. Display Results ---\n",
    "\n",
    "# Convert the list of dictionaries into a pandas DataFrame for a clean, tabular display.\n",
    "results_df = pd.DataFrame(results)\n",
    "\n",
    "# Ensure the 'K' column is treated as an integer.\n",
    "results_df['K'] = results_df['K'].astype(int)\n",
    "\n",
    "# Format the accuracy columns to be percentages rounded to two decimal places.\n",
    "results_df[['Accuracy (Original)', 'Accuracy (PCA)']] = results_df[['Accuracy (Original)', 'Accuracy (PCA)']].apply(lambda x: (x*100).round(2))\n",
    "\n",
    "# Print the final comparison table.\n",
    "print(\"\\nKNN Accuracy Comparison Table:\")\n",
    "# .to_string(index=False) provides a clean printout without the DataFrame index.\n",
    "print(results_df.to_string(index=False))"
   ]
  }
 ],
 "metadata": {
  "kernelspec": {
   "display_name": "Python 3",
   "language": "python",
   "name": "python3"
  },
  "language_info": {
   "codemirror_mode": {
    "name": "ipython",
    "version": 3
   },
   "file_extension": ".py",
   "mimetype": "text/x-python",
   "name": "python",
   "nbconvert_exporter": "python",
   "pygments_lexer": "ipython3",
   "version": "3.13.7"
  }
 },
 "nbformat": 4,
 "nbformat_minor": 5
}
