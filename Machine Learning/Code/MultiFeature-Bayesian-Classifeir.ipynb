{
 "cells": [
  {
   "cell_type": "markdown",
   "metadata": {},
   "source": [
    "# Bayesian Classifier for Housing Prices\n",
    "\n",
    "This notebook implements a two-class Bayesian classifier from scratch. It predicts whether a house price is above or below **4,000,000** based on two discrete features: the **number of bedrooms** and **parking spots**.\n",
    "\n",
    "The classifier calculates the **joint likelihood**—the probability of observing a specific combination of bedrooms and parking spots together—by directly counting its occurrences in each price category."
   ]
  },
  {
   "cell_type": "code",
   "execution_count": 1,
   "metadata": {},
   "outputs": [],
   "source": [
    "import pandas as pd\n",
    "import math"
   ]
  },
  {
   "cell_type": "markdown",
   "metadata": {},
   "source": [
    "## 1. Classifier Function Definition\n",
    "\n",
    "This function contains the core logic. It takes the processed data and a new data point, then calculates the prior, likelihood, evidence, and posterior probabilities for the two price classes."
   ]
  },
  {
   "cell_type": "code",
   "execution_count": 2,
   "metadata": {},
   "outputs": [],
   "source": [
    "def bayesian_classifier(price, collected_data, given_data):\n",
    "    \"\"\"Implements the Bayesian classification logic for two classes.\"\"\"\n",
    "    # Calculate the Prior probability of each class based on its frequency\n",
    "    prior = [price.count(0) / len(price), price.count(1) / len(price)]\n",
    "\n",
    "    # Count how many times the exact given_data combination appears in each class\n",
    "    temp = [0, 0]\n",
    "    for i in range(len(collected_data[0][0])): # Class 1 (<4M)\n",
    "        if collected_data[0][0][i] == given_data[0] and collected_data[1][0][i] == given_data[1]:\n",
    "            temp[0] += 1\n",
    "    for i in range(len(collected_data[0][1])): # Class 2 (>4M)\n",
    "        if collected_data[0][1][i] == given_data[0] and collected_data[1][1][i] == given_data[1]:\n",
    "            temp[1] += 1\n",
    "\n",
    "    # Calculate the Likelihood for each class: P(Data | Class)\n",
    "    likelihoods = [temp[0] / len(collected_data[0][0]),\n",
    "                   temp[1] / len(collected_data[0][1])]\n",
    "                   \n",
    "    # Calculate the Evidence: P(Data)\n",
    "    evidence = prior[0] * likelihoods[0] + prior[1] * likelihoods[1]\n",
    "    \n",
    "    # Calculate the final Posterior probabilities: P(Class | Data)\n",
    "    # Handle division by zero if evidence is 0 (combination never seen before)\n",
    "    if evidence == 0:\n",
    "        hp = [0.0, 0.0]\n",
    "    else:\n",
    "        hp = [(likelihoods[0] * prior[0]) / evidence, (likelihoods[1] * prior[1]) / evidence]\n",
    "\n",
    "    # Print the calculation breakdown\n",
    "    print(\"--- Bayes Calculation Breakdown ---\")\n",
    "    print(f\"Prior: {prior}\")\n",
    "    print(f\"Likelihoods: {likelihoods}\")\n",
    "    print(f\"Evidence: {evidence}\")\n",
    "    print(f\"Posterior Probabilities: \\n\\tClass 1 (<4M): {hp[0]}\\n\\tClass 2 (>4M): {hp[1]}\")\n",
    "    print(\"-----------------------------------\")\n",
    "          \n",
    "    return hp"
   ]
  },
  {
   "cell_type": "markdown",
   "metadata": {},
   "source": [
    "## 2. Data Loading and Preprocessing\n",
    "\n",
    "Here, we load the `Housing.csv` dataset and categorize each house into one of two price classes. We then segregate the feature data (`bedrooms`, `parking`) based on these classes."
   ]
  },
  {
   "cell_type": "code",
   "execution_count": 3,
   "metadata": {},
   "outputs": [
    {
     "name": "stdout",
     "output_type": "stream",
     "text": [
      "File 'Housing.csv' loaded successfully!\n",
      "Data processed: 219 samples in Class 1 (<4M) and 326 samples in Class 2 (>4M).\n"
     ]
    }
   ],
   "source": [
    "# Set the path to your CSV file.\n",
    "# For best results, place 'Housing.csv' in the same folder as this notebook.\n",
    "path = r\"Housing.csv\"\n",
    "\n",
    "try:\n",
    "    file = pd.read_csv(path)\n",
    "    print(f\"File '{path}' loaded successfully!\")\n",
    "    \n",
    "    # Extract data into lists\n",
    "    price = list(file[\"price\"])\n",
    "    bedrooms_data = list(file[\"bedrooms\"])\n",
    "    parking_data = list(file[\"parking\"])\n",
    "    \n",
    "    # Set the price threshold to 4,000,000\n",
    "    threshold = 4 * (10 ** 6)\n",
    "    \n",
    "    # Initialize lists to hold segregated feature data\n",
    "    bedrooms = [[], []]\n",
    "    parking = [[], []]\n",
    "\n",
    "    # Loop through each record to categorize it\n",
    "    for i in range(len(price)):\n",
    "        if price[i] < threshold: # Class 1: price < 4M\n",
    "            price[i] = 0\n",
    "            bedrooms[0].append(bedrooms_data[i])\n",
    "            parking[0].append(parking_data[i])\n",
    "        else: # Class 2: price >= 4M\n",
    "            price[i] = 1\n",
    "            bedrooms[1].append(bedrooms_data[i])\n",
    "            parking[1].append(parking_data[i])\n",
    "\n",
    "    # Combine into the final structure for the classifier\n",
    "    collected_data = [bedrooms, parking]\n",
    "    print(f\"Data processed: {len(bedrooms[0])} samples in Class 1 (<4M) and {len(bedrooms[1])} samples in Class 2 (>4M).\")\n",
    "\n",
    "except FileNotFoundError:\n",
    "    print(f\"Error: The file was not found at '{path}'\")\n",
    "    print(\"Please make sure the 'Housing.csv' file is in the same directory as the notebook, or update the 'path' variable.\")\n",
    "    collected_data = None"
   ]
  },
  {
   "cell_type": "markdown",
   "metadata": {},
   "source": [
    "## 3. Making a Prediction\n",
    "\n",
    "Finally, we define a new data point (a house with a specific number of bedrooms and parking spots) and use our classifier to predict its price category. We also calculate the probability of error for this prediction."
   ]
  },
  {
   "cell_type": "code",
   "execution_count": 4,
   "metadata": {},
   "outputs": [
    {
     "name": "stdout",
     "output_type": "stream",
     "text": [
      "\n",
      "Predicting for a house with 4 bedrooms and 2 parking spots...\n",
      "\n",
      "--- Bayes Calculation Breakdown ---\n",
      "Prior: [0.4018348623853211, 0.5981651376146789]\n",
      "Likelihoods: [0.0091324200913242, 0.0705521472392638]\n",
      "Evidence: 0.045871559633027525\n",
      "Posterior Probabilities: \n",
      "\tClass 1 (<4M): 0.08\n",
      "\tClass 2 (>4M): 0.92\n",
      "-----------------------------------\n",
      "\n",
      "Prediction: Price is greater than 4,000,000\n",
      "Probability of error: 0.0800\n"
     ]
    }
   ],
   "source": [
    "if collected_data is not None:\n",
    "    # Define the new data point we want to classify\n",
    "    given_bedrooms = 4\n",
    "    given_parking = 2\n",
    "    given_data = [given_bedrooms, given_parking]\n",
    "    print(f\"\\nPredicting for a house with {given_bedrooms} bedrooms and {given_parking} parking spots...\\n\")\n",
    "    \n",
    "    # Call the classifier to get the posterior probabilities\n",
    "    result = bayesian_classifier(price, collected_data, given_data)\n",
    "\n",
    "    # --- Make a Decision and Calculate Error ---\n",
    "    # Compare the final probabilities to make a classification decision\n",
    "    if not any(result):\n",
    "        print(\"This combination of features has never been seen before. Cannot make a prediction.\")\n",
    "    elif result[0] > result[1]:\n",
    "        print(\"\\nPrediction: Price is less than 4,000,000\")\n",
    "        # The probability of error is 1 minus the probability of the chosen class\n",
    "        print(f\"Probability of error: {1 - result[0]:.4f}\")\n",
    "    else:\n",
    "        print(\"\\nPrediction: Price is greater than 4,000,000\")\n",
    "        # The probability of error represents the uncertainty in the decision\n",
    "        print(f\"Probability of error: {1 - result[1]:.4f}\")"
   ]
  }
 ],
 "metadata": {
  "kernelspec": {
   "display_name": "Python 3",
   "language": "python",
   "name": "python3"
  },
  "language_info": {
   "codemirror_mode": {
    "name": "ipython",
    "version": 3
   },
   "file_extension": ".py",
   "mimetype": "text/x-python",
   "name": "python",
   "nbconvert_exporter": "python",
   "pygments_lexer": "ipython3",
   "version": "3.13.7"
  }
 },
 "nbformat": 4,
 "nbformat_minor": 5
}
