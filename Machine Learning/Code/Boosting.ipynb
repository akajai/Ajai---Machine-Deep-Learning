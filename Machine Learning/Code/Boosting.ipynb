{
 "cells": [
  {
   "cell_type": "markdown",
   "metadata": {},
   "source": [
    "# Understanding AdaBoost with a Diabetes Dataset\n",
    "\n",
    "This notebook demonstrates the implementation of the **AdaBoost** (Adaptive Boosting) algorithm. We will first establish a baseline performance using a single Decision Tree and then show how AdaBoost improves accuracy by sequentially training weak learners. We will also visualize how the model's accuracy changes as more estimators (trees) are added to the ensemble."
   ]
  },
  {
   "cell_type": "markdown",
   "metadata": {},
   "source": [
    "## 1. Importing Necessary Libraries\n",
    "\n",
    "First, we import all the required libraries for data manipulation, modeling, and plotting."
   ]
  },
  {
   "cell_type": "code",
   "execution_count": 1,
   "metadata": {},
   "outputs": [],
   "source": [
    "# Import pandas for data manipulation and analysis\n",
    "import pandas as pd\n",
    "\n",
    "# Import matplotlib for plotting and data visualization\n",
    "import matplotlib.pyplot as plt\n",
    "\n",
    "# Import train_test_split to divide the data into training and testing sets\n",
    "from sklearn.model_selection import train_test_split\n",
    "\n",
    "# Import DecisionTreeClassifier, which will serve as our baseline model and the base estimator for AdaBoost\n",
    "from sklearn.tree import DecisionTreeClassifier\n",
    "\n",
    "# Import cross_val_score to evaluate the baseline model's performance using cross-validation\n",
    "from sklearn.model_selection import cross_val_score\n",
    "\n",
    "# Import the AdaBoostClassifier, the ensemble model we will be using\n",
    "from sklearn.ensemble import AdaBoostClassifier"
   ]
  },
  {
   "cell_type": "markdown",
   "metadata": {},
   "source": [
    "## 2. Loading and Preparing the Data\n",
    "\n",
    "We load the PIMA Indians Diabetes dataset and separate it into features (`X`) and the target variable (`y`)."
   ]
  },
  {
   "cell_type": "code",
   "execution_count": 2,
   "metadata": {},
   "outputs": [
    {
     "name": "stdout",
     "output_type": "stream",
     "text": [
      "Dataset Head:\n",
      "   Pregnancies  Glucose  BloodPressure  SkinThickness  Insulin   BMI  \\\n",
      "0            6      148             72             35        0  33.6   \n",
      "1            1       85             66             29        0  26.6   \n",
      "2            8      183             64              0        0  23.3   \n",
      "3            1       89             66             23       94  28.1   \n",
      "4            0      137             40             35      168  43.1   \n",
      "\n",
      "   DiabetesPedigreeFunction  Age  Outcome  \n",
      "0                     0.627   50        1  \n",
      "1                     0.351   31        0  \n",
      "2                     0.672   32        1  \n",
      "3                     0.167   21        0  \n",
      "4                     2.288   33        1  \n",
      "\n",
      "Features (X) Head:\n",
      "   Pregnancies  Glucose  BloodPressure  SkinThickness  Insulin   BMI  \\\n",
      "0            6      148             72             35        0  33.6   \n",
      "1            1       85             66             29        0  26.6   \n",
      "2            8      183             64              0        0  23.3   \n",
      "3            1       89             66             23       94  28.1   \n",
      "4            0      137             40             35      168  43.1   \n",
      "\n",
      "   DiabetesPedigreeFunction  Age  \n",
      "0                     0.627   50  \n",
      "1                     0.351   31  \n",
      "2                     0.672   32  \n",
      "3                     0.167   21  \n",
      "4                     2.288   33  \n",
      "\n",
      "Target (y) Head:\n",
      "0    1\n",
      "1    0\n",
      "2    1\n",
      "3    0\n",
      "4    1\n",
      "Name: Outcome, dtype: int64\n"
     ]
    }
   ],
   "source": [
    "# Load the dataset from a CSV file into a pandas DataFrame\n",
    "df = pd.read_csv('diabetes.csv')\n",
    "\n",
    "# Display the first 5 rows of the DataFrame to inspect the data\n",
    "print(\"Dataset Head:\")\n",
    "print(df.head())\n",
    "\n",
    "# Separate the features (all columns except 'Outcome') into a DataFrame 'X'\n",
    "X = df.drop('Outcome', axis='columns')\n",
    "\n",
    "# Separate the target variable ('Outcome') into a Series 'y'\n",
    "y = df.Outcome\n",
    "\n",
    "# Display the first 5 rows of the features (X) and the target (y)\n",
    "print(\"\\nFeatures (X) Head:\")\n",
    "print(X.head())\n",
    "print(\"\\nTarget (y) Head:\")\n",
    "print(y.head())"
   ]
  },
  {
   "cell_type": "markdown",
   "metadata": {},
   "source": [
    "## 3. Splitting Data into Training and Testing Sets\n",
    "\n",
    "We split our data to train the model on one subset and evaluate its performance on a separate, unseen subset."
   ]
  },
  {
   "cell_type": "code",
   "execution_count": 3,
   "metadata": {},
   "outputs": [],
   "source": [
    "# Split the data into training and test sets.\n",
    "# 75% of the data will be used for training and 25% for testing.\n",
    "# 'random_state=10' ensures that the split is the same every time we run the code, making it reproducible.\n",
    "X_train, X_test, y_train, y_test = train_test_split(X, y, random_state=10)"
   ]
  },
  {
   "cell_type": "markdown",
   "metadata": {},
   "source": [
    "## 4. Establishing a Baseline: Single Decision Tree\n",
    "\n",
    "Before using a complex ensemble method like AdaBoost, it's good practice to see how a single, basic model performs. We use 8-fold cross-validation to get a robust estimate of the accuracy of a single Decision Tree on this dataset."
   ]
  },
  {
   "cell_type": "code",
   "execution_count": 4,
   "metadata": {},
   "outputs": [
    {
     "name": "stdout",
     "output_type": "stream",
     "text": [
      "Cross-validation scores for a single Decision Tree: [0.61458333 0.71875    0.64583333 0.67708333 0.70833333 0.69791667\n",
      " 0.73958333 0.71875   ]\n",
      "\n",
      "Mean percentage accuracy for individual decision trees: 69.01%\n"
     ]
    }
   ],
   "source": [
    "# Use cross-validation to evaluate a single DecisionTreeClassifier.\n",
    "# 'cv=8' means the data will be split into 8 folds. The model is trained on 7 folds and tested on the 8th, repeated 8 times.\n",
    "scores = cross_val_score(DecisionTreeClassifier(), X, y, cv=8)\n",
    "\n",
    "# Print the accuracy score for each of the 8 folds\n",
    "print(\"Cross-validation scores for a single Decision Tree:\", scores)\n",
    "\n",
    "# Calculate and print the mean accuracy across all 8 folds\n",
    "print(f'\\nMean percentage accuracy for individual decision trees: {scores.mean() * 100:.2f}%')"
   ]
  },
  {
   "cell_type": "markdown",
   "metadata": {},
   "source": [
    "## 5. Implementing and Evaluating AdaBoost\n",
    "\n",
    "Now, we'll implement the AdaBoost classifier. We will iteratively train the model, adding one tree (estimator) at a time from 1 to 100. In each step, we will calculate the model's accuracy on the **test set** to observe how performance improves as the ensemble grows."
   ]
  },
  {
   "cell_type": "code",
   "execution_count": 5,
   "metadata": {},
   "outputs": [],
   "source": [
    "# Create an empty list to store the accuracy scores at each stage of boosting\n",
    "test_accuracies = []\n",
    "\n",
    "# Loop through the number of estimators from 1 to 100\n",
    "for n_estimators in range(1, 101):\n",
    "    # Initialize the AdaBoostClassifier with the current number of estimators.\n",
    "    # By default, AdaBoost uses a Decision Tree with max_depth=1 (a \"stump\") as its base estimator.\n",
    "    model = AdaBoostClassifier(n_estimators=n_estimators, random_state=10)\n",
    "    \n",
    "    # Fit the model on the training data\n",
    "    model.fit(X_train, y_train)\n",
    "    \n",
    "    # Calculate the accuracy of the model on the unseen test data\n",
    "    accuracy = model.score(X_test, y_test)\n",
    "    \n",
    "    # Append the accuracy to our list\n",
    "    test_accuracies.append(accuracy)\n",
    "\n",
    "# The loop finishes here. 'test_accuracies' now contains 100 accuracy scores.\n"
   ]
  },
  {
   "cell_type": "markdown",
   "metadata": {},
   "source": [
    "## 6. Visualizing AdaBoost Performance\n",
    "\n",
    "A plot helps visualize the relationship between the number of estimators and the model's accuracy. We expect to see the accuracy increase and then stabilize as more weak learners are added."
   ]
  },
  {
   "cell_type": "code",
   "execution_count": 6,
   "metadata": {},
   "outputs": [
    {
     "data": {
      "image/png": "[encoded data removed]",
      "text/plain": [
       "<Figure size 640x480 with 1 Axes>"
      ]
     },
     "metadata": {},
     "output_type": "display_data"
    }
   ],
   "source": [
    "# Plot the number of estimators (x-axis) against the accuracy on the test set (y-axis)\n",
    "plt.plot(range(1, 101), test_accuracies, marker='o', linestyle='-', color='b')\n",
    "\n",
    "# Set the title and labels for the plot for clarity\n",
    "plt.title('AdaBoost Accuracy vs Number of Estimators')\n",
    "plt.xlabel('Number of Estimators')\n",
    "plt.ylabel('Accuracy on Test Set')\n",
    "\n",
    "# Add a grid for better readability\n",
    "plt.grid(True)\n",
    "\n",
    "# Display the plot\n",
    "plt.show()"
   ]
  },
  {
   "cell_type": "markdown",
   "metadata": {},
   "source": [
    "## 7. Final Model Accuracy\n",
    "\n",
    "Finally, we print the accuracy of the fully trained AdaBoost model with 100 estimators. This shows the performance improvement over the baseline single Decision Tree."
   ]
  },
  {
   "cell_type": "code",
   "execution_count": 7,
   "metadata": {},
   "outputs": [
    {
     "name": "stdout",
     "output_type": "stream",
     "text": [
      "Mean percentage accuracy for AdaBoost with 100 estimators: 74.48%\n"
     ]
    }
   ],
   "source": [
    "# Get the last accuracy score from our list, which corresponds to the model with 100 estimators\n",
    "final_accuracy = test_accuracies[-1] * 100\n",
    "\n",
    "# Print the final accuracy, formatted to two decimal places\n",
    "print(f'Mean percentage accuracy for AdaBoost with 100 estimators: {final_accuracy:.2f}%')"
   ]
  }
 ],
 "metadata": {
  "kernelspec": {
   "display_name": "Python 3",
   "language": "python",
   "name": "python3"
  },
  "language_info": {
   "codemirror_mode": {
    "name": "ipython",
    "version": 3
   },
   "file_extension": ".py",
   "mimetype": "text/x-python",
   "name": "python",
   "nbconvert_exporter": "python",
   "pygments_lexer": "ipython3",
   "version": "3.13.7"
  }
 },
 "nbformat": 4,
 "nbformat_minor": 4
}
