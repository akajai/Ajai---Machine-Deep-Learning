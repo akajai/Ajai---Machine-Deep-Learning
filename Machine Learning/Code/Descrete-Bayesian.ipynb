{
 "cells": [
  {
   "cell_type": "markdown",
   "metadata": {},
   "source": [
    "# Descrete Bayesian Classifier for Housing Prices\n",
    "\n",
    "This notebook implements a simple Naive Bayes classifier from scratch to predict whether a house price is above or below a certain threshold (4,000,000) based on the number of bedrooms."
   ]
  },
  {
   "cell_type": "code",
   "execution_count": 1,
   "metadata": {},
   "outputs": [],
   "source": [
    "import pandas as pd"
   ]
  },
  {
   "cell_type": "markdown",
   "metadata": {},
   "source": [
    "## 1. Classifier Function Definition\n",
    "\n",
    "Here we define the core function that implements the Naive Bayes logic. It calculates the **prior**, **likelihood**, and **evidence** to determine the **posterior probability** for each class."
   ]
  },
  {
   "cell_type": "code",
   "execution_count": 2,
   "metadata": {},
   "outputs": [],
   "source": [
    "def bayesian_classifier(price, bedroom_class_1, bedroom_class_2, given_bedrooms):\n",
    "    \"\"\"\n",
    "    Predicts the price class based on the number of bedrooms using Naive Bayes.\n",
    "    \"\"\"\n",
    "    # Calculate the Prior probabilities of each class\n",
    "    # P(Class 1) and P(Class 2)\n",
    "    prior = [price.count(0) / len(price), price.count(1) / len(price)]\n",
    "\n",
    "    # Calculate the Likelihood of observing 'given_bedrooms' for each class\n",
    "    # P(Bedrooms | Class 1) and P(Bedrooms | Class 2)\n",
    "    likelihoods = [bedroom_class_1.count(given_bedrooms) / len(bedroom_class_1),\n",
    "                   bedroom_class_2.count(given_bedrooms) / len(bedroom_class_2)]\n",
    "\n",
    "    # Calculate the Evidence (overall probability of the given bedrooms)\n",
    "    # P(Bedrooms)\n",
    "    evidence = prior[0] * likelihoods[0] + prior[1] * likelihoods[1]\n",
    "\n",
    "    # Calculate the Posterior probability for Class 1 using Bayes' Theorem\n",
    "    # P(Class 1 | Bedrooms)\n",
    "    hp1 = (likelihoods[0] * prior[0]) / evidence\n",
    "\n",
    "    # Calculate the Posterior probability for Class 2\n",
    "    # P(Class 2 | Bedrooms)\n",
    "    hp2 = (likelihoods[1] * prior[1]) / evidence\n",
    "\n",
    "    # Print the components for clarity\n",
    "    print(f\"--- Bayes Calculation Breakdown ---\")\n",
    "    print(f\"Prior P(<4M): {prior[0]:.3f} | P(>4M): {prior[1]:.3f}\")\n",
    "    print(f\"Likelihood P({given_bedrooms} beds | <4M): {likelihoods[0]:.3f} | P({given_bedrooms} beds | >4M): {likelihoods[1]:.3f}\")\n",
    "    print(f\"Evidence P({given_bedrooms} beds): {evidence:.3f}\")\n",
    "    print(f\"Posterior P(<4M | {given_bedrooms} beds): {hp1:.3f}\")\n",
    "    print(f\"Posterior P(>4M | {given_bedrooms} beds): {hp2:.3f}\")\n",
    "    print(\"-----------------------------------\")\n",
    "    \n",
    "    # Compare posterior probabilities for classification\n",
    "    if hp1 > hp2:\n",
    "        return \"Prediction: Price is less than 4,000,000\"\n",
    "    else:\n",
    "        return \"Prediction: Price is greater than 4,000,000\""
   ]
  },
  {
   "cell_type": "markdown",
   "metadata": {},
   "source": [
    "## 2. Data Loading and Preprocessing\n",
    "\n",
    "Load the housing data from a CSV file and process it into the required format.\n",
    "- **Binarize Prices:** Convert the continuous price data into two classes (0 for < 4M, 1 for > 4M).\n",
    "- **Segregate Bedrooms:** Separate the bedroom data based on the price class."
   ]
  },
  {
   "cell_type": "code",
   "execution_count": 3,
   "metadata": {},
   "outputs": [
    {
     "name": "stdout",
     "output_type": "stream",
     "text": [
      "File loaded successfully!\n",
      "Data processed: 219 samples in Class 1 (<4M) and 326 samples in Class 2 (>4M).\n"
     ]
    }
   ],
   "source": [
    "# --- Acquiring the data ---\n",
    "\n",
    "\n",
    "try:\n",
    "    file = pd.read_csv(\"Housing.csv\")\n",
    "    print(\"File loaded successfully!\")\n",
    "except FileNotFoundError:\n",
    "    print(f\"Error: The file was not found at 'Housing.csv'\")\n",
    "    print(\"Please update the 'path' variable to the correct location of your 'Housing.csv' file.\")\n",
    "    file = None # Set file to None to prevent errors in subsequent cells\n",
    "\n",
    "if file is not None:\n",
    "    price = list(file[\"price\"])        # price data\n",
    "    bedrooms = list(file[\"bedrooms\"])    # data for number of bedrooms\n",
    "    threshold = 4 * (10 ** 6)         # price threshold\n",
    "    bedrooms_class_1 = []             # number of bedrooms in class 1 (price < threshold)\n",
    "    bedrooms_class_2 = []             # number of bedrooms in class 2 (price > threshold)\n",
    "\n",
    "    # --- Managing the data ---\n",
    "    for i in range(len(price)):\n",
    "        if price[i] > threshold:\n",
    "            price[i] = 1 # Class 2\n",
    "            bedrooms_class_2.append(bedrooms[i])\n",
    "        else:\n",
    "            price[i] = 0 # Class 1\n",
    "            bedrooms_class_1.append(bedrooms[i])\n",
    "            \n",
    "    print(f\"Data processed: {price.count(0)} samples in Class 1 (<4M) and {price.count(1)} samples in Class 2 (>4M).\")"
   ]
  },
  {
   "cell_type": "markdown",
   "metadata": {},
   "source": [
    "## 3. Making a Prediction\n",
    "\n",
    "Now, let's use our classifier to predict the price category for a house with a specific number of bedrooms."
   ]
  },
  {
   "cell_type": "code",
   "execution_count": 11,
   "metadata": {},
   "outputs": [
    {
     "name": "stdout",
     "output_type": "stream",
     "text": [
      "Predicting price category for a house with 2 bedrooms:\n",
      "\n",
      "--- Bayes Calculation Breakdown ---\n",
      "Prior P(<4M): 0.402 | P(>4M): 0.598\n",
      "Likelihood P(2 beds | <4M): 0.443 | P(2 beds | >4M): 0.120\n",
      "Evidence P(2 beds): 0.250\n",
      "Posterior P(<4M | 2 beds): 0.713\n",
      "Posterior P(>4M | 2 beds): 0.287\n",
      "-----------------------------------\n",
      "Prediction: Price is less than 4,000,000\n"
     ]
    }
   ],
   "source": [
    "# Define the evidence: we want to predict the price for a house with 2 bedrooms.\n",
    "given_bedrooms = 2\n",
    "\n",
    "# Call the classifier function only if the file was loaded successfully.\n",
    "if file is not None:\n",
    "    print(f\"Predicting price category for a house with {given_bedrooms} bedrooms:\\n\")\n",
    "    prediction = bayesian_classifier(price, bedrooms_class_1, bedrooms_class_2, given_bedrooms)\n",
    "    print(prediction)"
   ]
  }
 ],
 "metadata": {
  "kernelspec": {
   "display_name": "Python 3",
   "language": "python",
   "name": "python3"
  },
  "language_info": {
   "codemirror_mode": {
    "name": "ipython",
    "version": 3
   },
   "file_extension": ".py",
   "mimetype": "text/x-python",
   "name": "python",
   "nbconvert_exporter": "python",
   "pygments_lexer": "ipython3",
   "version": "3.13.7"
  }
 },
 "nbformat": 4,
 "nbformat_minor": 4
}
