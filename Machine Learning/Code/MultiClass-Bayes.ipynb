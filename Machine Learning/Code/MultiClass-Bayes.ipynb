{
 "cells": [
  {
   "cell_type": "markdown",
   "metadata": {},
   "source": [
    "# Multi-Class Bayesian Classifier for Housing Prices\n",
    "\n",
    "This notebook implements a Bayesian classifier from scratch for a **multi-class** (3 price categories) problem using two discrete features: **number of bedrooms** and **parking spots**.\n",
    "\n",
    "A key aspect of this implementation is that it calculates the **joint likelihood**—the probability of observing a specific combination of bedrooms and parking spots together—by directly counting occurrences within each class."
   ]
  },
  {
   "cell_type": "code",
   "execution_count": 1,
   "metadata": {},
   "outputs": [],
   "source": [
    "import pandas as pd\n",
    "import math"
   ]
  },
  {
   "cell_type": "markdown",
   "metadata": {},
   "source": [
    "## 1. Classifier Function Definition\n",
    "\n",
    "This function contains the core logic. It takes the processed data and a new data point, then calculates the prior, likelihood, evidence, and posterior probabilities for all three classes."
   ]
  },
  {
   "cell_type": "code",
   "execution_count": 2,
   "metadata": {},
   "outputs": [],
   "source": [
    "def bayesian_classifier(price, collected_data, given_data):\n",
    "    \"\"\"Implements the Bayesian classification logic for three classes.\"\"\"\n",
    "    # Calculate the Prior probability of each class based on its frequency\n",
    "    prior = [price.count(0) / len(price), price.count(1) / len(price), price.count(2) / len(price)]\n",
    "\n",
    "    # Count how many times the exact given_data combination appears in each class\n",
    "    temp = [0, 0, 0]\n",
    "    for i in range(len(collected_data[0][0])): # Class 1\n",
    "        if collected_data[0][0][i] == given_data[0] and collected_data[1][0][i] == given_data[1]:\n",
    "            temp[0] += 1\n",
    "    for i in range(len(collected_data[0][1])): # Class 2\n",
    "        if collected_data[0][1][i] == given_data[0] and collected_data[1][1][i] == given_data[1]:\n",
    "            temp[1] += 1\n",
    "    for i in range(len(collected_data[0][2])): # Class 3\n",
    "        if collected_data[0][2][i] == given_data[0] and collected_data[1][2][i] == given_data[1]:\n",
    "            temp[2] += 1\n",
    "\n",
    "    # Calculate the Likelihood for each class: P(Data | Class)\n",
    "    likelihood = [temp[0] / len(collected_data[0][0]), temp[1] / len(collected_data[0][1]), temp[2] / len(collected_data[0][2])]\n",
    "    \n",
    "    # Calculate the Evidence: P(Data)\n",
    "    evidence = prior[0] * likelihood[0] + prior[1] * likelihood[1] + prior[2] * likelihood[2]\n",
    "    \n",
    "    # Calculate the Posterior probabilities for each class: P(Class | Data)\n",
    "    # Handle division by zero case if evidence is 0 (combination never seen before)\n",
    "    if evidence == 0:\n",
    "        hp = [0.0, 0.0, 0.0]\n",
    "    else:\n",
    "        hp = [(likelihood[0] * prior[0]) / evidence, (likelihood[1] * prior[1]) / evidence,\n",
    "              (likelihood[2] * prior[2]) / evidence]\n",
    "\n",
    "    # Print the calculation breakdown\n",
    "    print(\"--- Bayes Calculation Breakdown ---\")\n",
    "    print(f\"Prior: {prior}\")\n",
    "    print(f\"Likelihoods: {likelihood}\")\n",
    "    print(f\"Evidence: {evidence}\")\n",
    "    print(f\"Posterior Probabilities:\\n\\tClass 1 (<4M): {hp[0]}\\n\\tClass 2 (4-8M): {hp[1]}\\n\\tClass 3 (>8M): {hp[2]}\")\n",
    "    print(\"-----------------------------------\")\n",
    "    \n",
    "    return hp"
   ]
  },
  {
   "cell_type": "markdown",
   "metadata": {},
   "source": [
    "## 2. Data Loading and Preprocessing\n",
    "\n",
    "Here, we load the `Housing.csv` dataset and categorize each house into one of three price classes. We then segregate the feature data (`bedrooms`, `parking`) based on these classes."
   ]
  },
  {
   "cell_type": "code",
   "execution_count": 3,
   "metadata": {},
   "outputs": [
    {
     "name": "stdout",
     "output_type": "stream",
     "text": [
      "File 'Housing.csv' loaded successfully!\n",
      "Data processed into 219 samples for Class 1, 289 for Class 2, and 37 for Class 3.\n"
     ]
    }
   ],
   "source": [
    "# Set the path to your CSV file.\n",
    "# For best results, place 'Housing.csv' in the same folder as this notebook.\n",
    "path = r\"Housing.csv\"\n",
    "\n",
    "try:\n",
    "    file = pd.read_csv(path)\n",
    "    print(f\"File '{path}' loaded successfully!\")\n",
    "    \n",
    "    # Extract data into lists\n",
    "    price = list(file[\"price\"]) \n",
    "    bedrooms_data = list(file[\"bedrooms\"])\n",
    "    parking_data = list(file[\"parking\"])\n",
    "    \n",
    "    # Set thresholds to define three price classes\n",
    "    thresholds = [4 * (10 ** 6), 8 * (10 ** 6)]\n",
    "    \n",
    "    # Initialize lists to hold segregated feature data\n",
    "    bedrooms, parking = [[], [], []], [[], [], []]\n",
    "\n",
    "    # Loop through each record to categorize it\n",
    "    for i in range(len(price)):\n",
    "        if price[i] < thresholds[0]:        # Class 1: price < 4M\n",
    "            price[i] = 0\n",
    "            bedrooms[0].append(bedrooms_data[i])\n",
    "            parking[0].append(parking_data[i])\n",
    "        elif price[i] < thresholds[1]:      # Class 2: 4M <= price < 8M\n",
    "            price[i] = 1\n",
    "            bedrooms[1].append(bedrooms_data[i])\n",
    "            parking[1].append(parking_data[i])\n",
    "        else:                               # Class 3: price >= 8M\n",
    "            price[i] = 2\n",
    "            bedrooms[2].append(bedrooms_data[i])\n",
    "            parking[2].append(parking_data[i])\n",
    "\n",
    "    # Combine into the final structure for the classifier\n",
    "    collected_data = [bedrooms, parking]\n",
    "    print(f\"Data processed into {len(bedrooms[0])} samples for Class 1, {len(bedrooms[1])} for Class 2, and {len(bedrooms[2])} for Class 3.\")\n",
    "\n",
    "except FileNotFoundError:\n",
    "    print(f\"Error: The file was not found at '{path}'\")\n",
    "    print(\"Please make sure the 'Housing.csv' file is in the same directory as the notebook, or update the 'path' variable.\")\n",
    "    collected_data = None"
   ]
  },
  {
   "cell_type": "markdown",
   "metadata": {},
   "source": [
    "## 3. Making a Prediction\n",
    "\n",
    "Finally, we define a new data point (a house with a specific number of bedrooms and parking spots) and use our classifier to predict its price category. We also calculate the probability of error for this prediction."
   ]
  },
  {
   "cell_type": "code",
   "execution_count": 4,
   "metadata": {},
   "outputs": [
    {
     "name": "stdout",
     "output_type": "stream",
     "text": [
      "\n",
      "Predicting for a house with 4 bedrooms and 2 parking spots...\n",
      "\n",
      "--- Bayes Calculation Breakdown ---\n",
      "Prior: [0.4018348623853211, 0.5302752293577981, 0.06788990825688074]\n",
      "Likelihoods: [0.0091324200913242, 0.05190311418685121, 0.21621621621621623]\n",
      "Evidence: 0.045871559633027525\n",
      "Posterior Probabilities:\n",
      "\tClass 1 (<4M): 0.08\n",
      "\tClass 2 (4-8M): 0.6\n",
      "\tClass 3 (>8M): 0.32\n",
      "-----------------------------------\n",
      "\n",
      "Prediction: Price is between 40,00,000 and 80,00,000\n",
      "Probability of error: 0.4000\n"
     ]
    }
   ],
   "source": [
    "if collected_data is not None:\n",
    "    # Define the new data point we want to classify\n",
    "    given_bedrooms = 4 \n",
    "    given_parking = 2 \n",
    "    given_data = [given_bedrooms, given_parking]\n",
    "    print(f\"\\nPredicting for a house with {given_bedrooms} bedrooms and {given_parking} parking spots...\\n\")\n",
    "    \n",
    "    # Call the classifier to get the posterior probabilities\n",
    "    result = bayesian_classifier(price, collected_data, given_data)\n",
    "\n",
    "    # --- Make a Decision ---\n",
    "    # Find the class with the highest posterior probability\n",
    "    if not any(result):\n",
    "        print(\"This combination of features has never been seen before. Cannot make a prediction.\")\n",
    "    elif max(result) == result[0]:\n",
    "        print(\"\\nPrediction: Price is less than 40,00,000\")\n",
    "    elif max(result) == result[1]:\n",
    "        print(\"\\nPrediction: Price is between 40,00,000 and 80,00,000\")\n",
    "    else:\n",
    "        print(\"\\nPrediction: Price is greater than 80,00,000\")\n",
    "    \n",
    "    # Calculate the probability of error\n",
    "    # This is 1 minus the probability of the most likely class\n",
    "    p_error = 1 - max(result)\n",
    "    print(f\"Probability of error: {p_error:.4f}\")"
   ]
  }
 ],
 "metadata": {
  "kernelspec": {
   "display_name": "Python 3",
   "language": "python",
   "name": "python3"
  },
  "language_info": {
   "codemirror_mode": {
    "name": "ipython",
    "version": 3
   },
   "file_extension": ".py",
   "mimetype": "text/x-python",
   "name": "python",
   "nbconvert_exporter": "python",
   "pygments_lexer": "ipython3",
   "version": "3.13.7"
  }
 },
 "nbformat": 4,
 "nbformat_minor": 4
}
