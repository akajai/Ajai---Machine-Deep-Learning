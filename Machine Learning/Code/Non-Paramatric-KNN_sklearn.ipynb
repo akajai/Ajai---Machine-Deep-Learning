{
  "cells": [
    {
      "cell_type": "code",
      "execution_count": 1,
      "metadata": {
        "id": "tHILrSr30VWP"
      },
      "outputs": [],
      "source": [
        "# Importing necessary libraries\n",
        "from sklearn.datasets import load_breast_cancer\n",
        "from sklearn.model_selection import train_test_split\n",
        "from sklearn.neighbors import KNeighborsClassifier\n",
        "from sklearn.metrics import accuracy_score"
      ]
    },
    {
      "cell_type": "code",
      "execution_count": 2,
      "metadata": {
        "id": "u1LteVem0XWX"
      },
      "outputs": [],
      "source": [
        "# Step 1: Load the Breast Cancer dataset\n",
        "cancer = load_breast_cancer()\n",
        "X = cancer.data\n",
        "y = cancer.target\n",
        "\n",
        "\n",
        "# Step 2: Split the dataset into training and testing sets (70% training, 30% testing)\n",
        "X_train, X_test, y_train, y_test = train_test_split(X, y, test_size=0.3, random_state=42)"
      ]
    },
    {
      "cell_type": "code",
      "execution_count": 3,
      "metadata": {
        "colab": {
          "base_uri": "https://localhost:8080/"
        },
        "id": "Kji5Pj-c0NHN",
        "outputId": "dc879a06-d3e2-4a9b-829d-23f76b8d6972"
      },
      "outputs": [
        {
          "name": "stdout",
          "output_type": "stream",
          "text": [
            "Accuracy with K=5: 95.90643274853801\n"
          ]
        }
      ],
      "source": [
        "# Step 3: Create the KNN classifier with K=3\n",
        "knn = KNeighborsClassifier(n_neighbors=5)\n",
        "\n",
        "# Step 4: Fit the model on the training data\n",
        "knn.fit(X_train, y_train)\n",
        "\n",
        "# Step 5: Predict on the test data\n",
        "y_pred = knn.predict(X_test)\n",
        "\n",
        "# Step 6: Evaluate the performance (accuracy)\n",
        "accuracy = accuracy_score(y_test, y_pred)\n",
        "print(\"Accuracy with K=5:\", accuracy*100)\n",
        "\n"
      ]
    },
    {
      "cell_type": "code",
      "execution_count": 4,
      "metadata": {
        "colab": {
          "base_uri": "https://localhost:8080/"
        },
        "id": "twOoyNzq0UFg",
        "outputId": "10cf0208-85d0-4594-c783-eec35526ef44"
      },
      "outputs": [
        {
          "name": "stdout",
          "output_type": "stream",
          "text": [
            "Accuracy for K=1: 93.56725146198829\n",
            "Accuracy for K=2: 92.98245614035088\n",
            "Accuracy for K=3: 94.15204678362574\n",
            "Accuracy for K=4: 94.73684210526315\n",
            "Accuracy for K=5: 95.90643274853801\n",
            "Accuracy for K=6: 95.90643274853801\n",
            "Accuracy for K=7: 96.49122807017544\n",
            "Accuracy for K=8: 96.49122807017544\n",
            "Accuracy for K=9: 97.07602339181285\n",
            "Accuracy for K=10: 98.24561403508771\n",
            "Accuracy for K=11: 97.6608187134503\n",
            "Accuracy for K=12: 97.6608187134503\n",
            "Accuracy for K=13: 96.49122807017544\n",
            "Accuracy for K=14: 96.49122807017544\n",
            "Accuracy for K=15: 96.49122807017544\n",
            "Accuracy for K=16: 96.49122807017544\n",
            "Accuracy for K=17: 96.49122807017544\n",
            "Accuracy for K=18: 96.49122807017544\n",
            "Accuracy for K=19: 95.90643274853801\n",
            "Accuracy for K=20: 96.49122807017544\n"
          ]
        }
      ],
      "source": [
        "# Step 7: Try different K values and observe how the accuracy changes\n",
        "for k in range(1, 21):\n",
        "    knn = KNeighborsClassifier(n_neighbors=k)\n",
        "    knn.fit(X_train, y_train)\n",
        "    y_pred = knn.predict(X_test)\n",
        "    accuracy = accuracy_score(y_test, y_pred)\n",
        "    print(f\"Accuracy for K={k}: {accuracy*100}\")"
      ]
    }
  ],
  "metadata": {
    "colab": {
      "provenance": []
    },
    "kernelspec": {
      "display_name": "Python 3",
      "name": "python3"
    },
    "language_info": {
      "codemirror_mode": {
        "name": "ipython",
        "version": 3
      },
      "file_extension": ".py",
      "mimetype": "text/x-python",
      "name": "python",
      "nbconvert_exporter": "python",
      "pygments_lexer": "ipython3",
      "version": "3.13.7"
    }
  },
  "nbformat": 4,
  "nbformat_minor": 0
}
